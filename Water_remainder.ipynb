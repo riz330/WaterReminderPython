{
 "cells": [
  {
   "cell_type": "code",
   "execution_count": 1,
   "id": "b5477be2-e7f9-429e-a78f-6ef0926d7732",
   "metadata": {},
   "outputs": [],
   "source": [
    "import time# Importing the time module to use the sleep function and create time intervals\n",
    "# ! pip install plyer\n",
    "# ! pip install time\n",
    "from plyer import notification# Importing the notification module from the 'plyer' library to send system notifications"
   ]
  },
  {
   "cell_type": "code",
   "execution_count": 3,
   "id": "34660aa1-53f4-4b26-a1e2-0aeee001739a",
   "metadata": {},
   "outputs": [
    {
     "name": "stdin",
     "output_type": "stream",
     "text": [
      "Hello! May I know your name, please?  Rizwan\n"
     ]
    }
   ],
   "source": [
    "name = input(\"Hello! May I know your name, please? \")# Asking the user to input their name, which will be used in the reminder message\n",
    "def remind_drink_water():# Defining the main function that will send water reminders\n",
    "    while True:# Infinite loop to keep the reminder running continuously\n",
    "        notification.notify(title = \"Time to Hydrate!\",# Title of the notification window\n",
    "                            message = f\"Hey {name}, it's time to drink a glass of water and stay refreshed!\",# Personalized message that includes the user's name\n",
    "                            timeout = 10)# The notification will be visible for 10 seconds before disappearing\n",
    "        time.sleep(3600)# Reminds every hour (3600 seconds or every hour)\n"
   ]
  },
  {
   "cell_type": "code",
   "execution_count": 5,
   "id": "7a3f9613-1f2b-405b-b3d9-a7cac791669f",
   "metadata": {},
   "outputs": [
    {
     "ename": "KeyboardInterrupt",
     "evalue": "",
     "output_type": "error",
     "traceback": [
      "\u001b[1;31m---------------------------------------------------------------------------\u001b[0m",
      "\u001b[1;31mKeyboardInterrupt\u001b[0m                         Traceback (most recent call last)",
      "Cell \u001b[1;32mIn[5], line 1\u001b[0m\n\u001b[1;32m----> 1\u001b[0m remind_drink_water()\n",
      "Cell \u001b[1;32mIn[3], line 7\u001b[0m, in \u001b[0;36mremind_drink_water\u001b[1;34m()\u001b[0m\n\u001b[0;32m      3\u001b[0m \u001b[38;5;28;01mwhile\u001b[39;00m \u001b[38;5;28;01mTrue\u001b[39;00m:\u001b[38;5;66;03m# Infinite loop to keep the reminder running continuously\u001b[39;00m\n\u001b[0;32m      4\u001b[0m     notification\u001b[38;5;241m.\u001b[39mnotify(title \u001b[38;5;241m=\u001b[39m \u001b[38;5;124m\"\u001b[39m\u001b[38;5;124mTime to Hydrate!\u001b[39m\u001b[38;5;124m\"\u001b[39m,\u001b[38;5;66;03m# Title of the notification window\u001b[39;00m\n\u001b[0;32m      5\u001b[0m                         message \u001b[38;5;241m=\u001b[39m \u001b[38;5;124mf\u001b[39m\u001b[38;5;124m\"\u001b[39m\u001b[38;5;124mHey \u001b[39m\u001b[38;5;132;01m{\u001b[39;00mname\u001b[38;5;132;01m}\u001b[39;00m\u001b[38;5;124m, it\u001b[39m\u001b[38;5;124m'\u001b[39m\u001b[38;5;124ms time to drink a glass of water and stay refreshed!\u001b[39m\u001b[38;5;124m\"\u001b[39m,\u001b[38;5;66;03m# Personalized message that includes the user's name\u001b[39;00m\n\u001b[0;32m      6\u001b[0m                         timeout \u001b[38;5;241m=\u001b[39m \u001b[38;5;241m10\u001b[39m)\u001b[38;5;66;03m# The notification will be visible for 10 seconds before disappearing\u001b[39;00m\n\u001b[1;32m----> 7\u001b[0m     time\u001b[38;5;241m.\u001b[39msleep(\u001b[38;5;241m20\u001b[39m)\n",
      "\u001b[1;31mKeyboardInterrupt\u001b[0m: "
     ]
    }
   ],
   "source": [
    "remind_drink_water()# Running the remind_drink_water function\n",
    "# As it is infinite loop ,laptops with slow server might face issue  \n",
    "# In order to stop this loop please go to kernel and go to interuppt kernel ,it will interuppt at instance when notifiaction is gonna get displayed\n",
    "# You Can also exception handling also"
   ]
  },
  {
   "cell_type": "code",
   "execution_count": null,
   "id": "93173b0a-58e8-40c1-bb79-10c3c93cc713",
   "metadata": {},
   "outputs": [],
   "source": [
    "\n"
   ]
  },
  {
   "cell_type": "code",
   "execution_count": null,
   "id": "8f287738-d598-47eb-bfcf-715b9e5adc9e",
   "metadata": {},
   "outputs": [],
   "source": []
  }
 ],
 "metadata": {
  "kernelspec": {
   "display_name": "Python 3 (ipykernel)",
   "language": "python",
   "name": "python3"
  },
  "language_info": {
   "codemirror_mode": {
    "name": "ipython",
    "version": 3
   },
   "file_extension": ".py",
   "mimetype": "text/x-python",
   "name": "python",
   "nbconvert_exporter": "python",
   "pygments_lexer": "ipython3",
   "version": "3.12.4"
  }
 },
 "nbformat": 4,
 "nbformat_minor": 5
}
